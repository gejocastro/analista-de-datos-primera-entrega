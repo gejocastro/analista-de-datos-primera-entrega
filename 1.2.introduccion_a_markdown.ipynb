{
 "cells": [
  {
   "cell_type": "markdown",
   "metadata": {
    "tags": []
   },
   "source": [
    "# **MÓDULO 1 - MARKDOWN**\n",
    "## Markdown in Jupyter Notebook\n",
    "**Cómo escribir y usar markup tags en Jupyter.**"
   ]
  },
  {
   "cell_type": "markdown",
   "metadata": {},
   "source": [
    "Markdown es un lenguaje de marcado ligero que ya representa un estándar entre los data scientist y analistas. Generalmente se convierte a HTML para poder ser compartido entre diferentes dispositivos y personas.\n",
    "\n",
    "Un lenguaje de marcado es similar a HTML, está compuesto por tags o etiquetas de marcado que se abren `<tagname>` y cierran `</tagname>`.\n",
    "\n",
    "En este notebook se ven los mismos resultados obtenidos con tags de marcado y con sintaxis soportada por Jupyter:"
   ]
  },
  {
   "cell_type": "markdown",
   "metadata": {},
   "source": [
    "<ul>\n",
    "    <li>Headings</li>\n",
    "    <li>Blockquotes</li>\n",
    "    <li>Code section</li>\n",
    "    <li>Mathematical Symbol</li>\n",
    "    <li>Line Break</li>\n",
    "    <li>Bold and Italic Text</li>\n",
    "    <li>Horizontal Lines</li>\n",
    "    <li>Ordered List</li>\n",
    "    <li>Unordered List</li>\n",
    "    <li>Internal and External Link</li>\n",
    "    <li>Table</li>\n",
    "    <li>Image</li>  \n",
    "</ul>\n",
    "\n",
    "Las celdas de Markdown se pueden seleccionar usando el menú desplegable o el atajo 'm/M', inmediatamente después de insertar una nueva celda.\n",
    "\n",
    "![](graphics/figure1.png)"
   ]
  },
  {
   "cell_type": "markdown",
   "metadata": {},
   "source": [
    "## Headings\n",
    "\n",
    "Los encabezados comienzan con '#,' seguido por un espacio. Hay seis niveles de encabezados, el primer encabezado usa un hash y el último seis.\n",
    "\n",
    "\\# (Header 1, title)\n",
    "\n",
    "\\## (Header 2, major headings)\n",
    "\n",
    "\\### (Header 3, subheadings)\n",
    "\n",
    "\\#### (Header 4)\n",
    "\n",
    "\\##### (Header 5)\n",
    "\n",
    "\\###### (Header 6)\n",
    "\n",
    "Alternativamente se pueden usar tags de marcado h1-h6 respectivamente:\n",
    "\n",
    "&lt;h1&gt;Header 1, title&lt;h1&gt;<br>\n",
    "&lt;h2&gt;Header 2, major headings&lt;h2&gt;<br>\n",
    "&lt;h3&gt;Header 3, subheadings&lt;h3&gt;<br>\n",
    "&lt;h4&gt;Header 4&lt;h4&gt;<br>\n",
    "&lt;h5&gt;Header 5&lt;h5&gt;<br>\n",
    "&lt;h6&gt;Header 6&lt;h6&gt;"
   ]
  },
  {
   "cell_type": "markdown",
   "metadata": {},
   "source": [
    "### ¡A practicar headers!"
   ]
  },
  {
   "cell_type": "markdown",
   "metadata": {},
   "source": [
    "# Título 1 #\n",
    "## Subtítulo ##\n",
    "<h6> con etiquetas html h6 <h6>\n"
   ]
  },
  {
   "cell_type": "markdown",
   "metadata": {},
   "source": [
    "## Citas\n",
    "\n",
    "Los bloques de citas pueden alojar una porción grande de texto y generalmente están identados. Se pueden obtener usando el símbolo de Markdown '>' o &lt;blockquote&gt;text for blockquote&lt;/blockquote&gt;<br>\n",
    "\n",
    "- &gt; This is good\n",
    "\n",
    "- &lt;blockquote&gt; This is good &lt;/blockquote&gt;\n",
    "\n"
   ]
  },
  {
   "cell_type": "markdown",
   "metadata": {},
   "source": [
    "### ¡A practicar bloques de citas!"
   ]
  },
  {
   "cell_type": "markdown",
   "metadata": {},
   "source": [
    "> this is good!\n",
    "\n",
    "<blockquote> this is good too </blockquote>\n",
    "\n",
    "> quote 1 nested\n",
    ">> quote 2\n",
    "\n"
   ]
  },
  {
   "cell_type": "markdown",
   "metadata": {},
   "source": [
    "## Bloque de código\n",
    "\n",
    "Un bloque de código especifica el código de diferentes lenguajes de programación y puede ser renderizado en una línea así: ' \\`inline code goes here\\` '. Pero un bloque en si comienza con tres \"back-ticks\": ' \\`\\`\\` block line code goes here \\`\\`\\` '. O con el tag de Markup: ' &lt;code&gt;code goes here&lt;code&gt; '.\n",
    "\n",
    "The inline code example is given below:<br>\n",
    "\\`x =5\\`<br>\n",
    "<br>\n",
    "\n",
    "Code section examples are given below:<br>\n",
    "\n",
    "Using Markdown\n",
    "\n",
    "\\```\n",
    "Python<br>\n",
    "str = \"This is block level code\"<br>\n",
    "print(str)<br>\n",
    "\\```\n",
    "\n",
    "Using Markup Tag \n",
    "\n",
    "\n",
    "&lt;code&gt;\n",
    "    Python<br>\n",
    "    str = \"This is a block level code\"<br>\n",
    "    print(str)   \n",
    "  &lt;/code&gt;\n",
    "\n",
    "\n",
    "Usando Markdown, se puede ver el código \"coloreado\" si se especifica el lenguaje de programación luego de los primeros tres \"ticks\": '\\`\\`\\`' three ticks and the example is given below:\n",
    "\n",
    "Using Markdown, you will not get syntax highlighting, but code is highlighted:\n"
   ]
  },
  {
   "cell_type": "markdown",
   "metadata": {},
   "source": [
    "### ¡A practicar bloque de código!"
   ]
  },
  {
   "cell_type": "markdown",
   "metadata": {},
   "source": [
    "`a=5\n",
    "print(a)`\n",
    "\n",
    "``` \n",
    "code\n",
    "bloque de codigo \n",
    "a=25\n",
    "```\n",
    "<code>\n",
    "   linea 1...\n",
    "    linea 2...\n",
    "    linea 3...\n",
    "</code>\n"
   ]
  },
  {
   "cell_type": "markdown",
   "metadata": {},
   "source": [
    "## Símbolos matemáticos\n",
    "\n",
    "Markdown soporta simbología matemática en su sintáxis, una expresión matemática se encierra entre signos pesos:  $\\text{\\$ mathematical expression goes here \\$}$. Y para renderizarlos en Markup:<a href=\"https://www.w3schools.com/charsets/ref_utf_math.asp\"> Mathematical Operators</a>. Ejemplo: <br>\n",
    "\n",
    "&#36;\\sqrt{k} &#36;"
   ]
  },
  {
   "cell_type": "markdown",
   "metadata": {},
   "source": [
    "### ¡A practicar símbolos matemáticos!"
   ]
  },
  {
   "cell_type": "markdown",
   "metadata": {},
   "source": [
    "&#8704;x, x>0 &then;"
   ]
  },
  {
   "cell_type": "markdown",
   "metadata": {},
   "source": [
    "## Salto de línea\n",
    "\n",
    "Un salto de línea comienza con el tag &lt;br&gt; sin tag de cierre:\n",
    "\n",
    "```\n",
    "The line breaks after using <br> br tags and it is awesome.\n",
    "```\n",
    "\n",
    "Mientras que en Markdown *dos* espacios al final de la línea implican un salto de línea."
   ]
  },
  {
   "cell_type": "markdown",
   "metadata": {},
   "source": [
    "### ¡A practicar saltos de línea!"
   ]
  },
  {
   "cell_type": "markdown",
   "metadata": {},
   "source": []
  },
  {
   "cell_type": "markdown",
   "metadata": {},
   "source": [
    "## Negrita y cursiva\n",
    "\n",
    "Se pueden usar los tag &lt;b&gt; '\\**' i.e. 'double asterisk' or '\\__' i.e. 'double underscore' para obtener texto en negrita:<br>\n",
    "\n",
    "\n",
    "- &lt;b&gt; This is bold text &lt;/b&gt;\n",
    "- &#42;&#42;This is bold text\n",
    "- &#95; &#95;This is bold text"
   ]
  },
  {
   "cell_type": "markdown",
   "metadata": {},
   "source": [
    "### ¡A practicar negrita!"
   ]
  },
  {
   "cell_type": "markdown",
   "metadata": {},
   "source": [
    "**negrita**\n"
   ]
  },
  {
   "cell_type": "markdown",
   "metadata": {},
   "source": [
    "Se usan los tags &lt;i&gt; '\\*' i.e., single asterisk or '\\_' i.e., para lograr texto en cursiva (o itálica).<br>\n",
    "\n",
    "- &lt;i&gt; This is italic text &lt;/i&gt; \n",
    "- &#42;This is italic text*\n",
    "- &#95;This is italic text&#95;\n"
   ]
  },
  {
   "cell_type": "markdown",
   "metadata": {},
   "source": [
    "### ¡A practicar cursiva!"
   ]
  },
  {
   "cell_type": "markdown",
   "metadata": {},
   "source": [
    "_cursiva_\n",
    "\n",
    "_ __negrita cursiva__ _\n"
   ]
  },
  {
   "cell_type": "markdown",
   "metadata": {},
   "source": [
    "## Línea Horizontal\n",
    "\n",
    "Para obtener una línea horizontal en Markdown se usa '---' o el tag en Markup &lt;hr&gt;"
   ]
  },
  {
   "cell_type": "markdown",
   "metadata": {},
   "source": [
    "### ¡A practicar línea horizontal!"
   ]
  },
  {
   "cell_type": "markdown",
   "metadata": {},
   "source": [
    "horizontal rule \n",
    "\n",
    "---"
   ]
  },
  {
   "cell_type": "markdown",
   "metadata": {},
   "source": [
    "## Lista ordenada\n",
    "\n",
    "Una lista ordenada es una lista enumerada que se puede obtener con el tag &lt;ol&gt; y su tag de cierre &lt;/ol&gt; Para cada ítem se requieren los tag &lt;li&gt; y &lt;/li&gt;"
   ]
  },
  {
   "cell_type": "markdown",
   "metadata": {},
   "source": [
    "&lt;ol&gt;<br>\n",
    "    &lt;li&gt;Fish&lt;/li&gt;<br>\n",
    "    &lt;li&gt;Eggs&lt;/li&gt;<br>\n",
    "    &lt;li&gt;Cheese&lt;/li&gt;<br>\n",
    "&lt;/ol&gt;"
   ]
  },
  {
   "cell_type": "markdown",
   "metadata": {},
   "source": [
    "### ¡A practicar listas ordenadas!"
   ]
  },
  {
   "cell_type": "markdown",
   "metadata": {},
   "source": [
    "<ol>\n",
    "<li> first item</li>\n",
    "<li> second item</li>\n",
    "</ol>\n",
    "\n",
    "1. first item\n",
    "2. second item"
   ]
  },
  {
   "cell_type": "markdown",
   "metadata": {},
   "source": [
    "Alternativamente se puede usar '1. ' i.e., El número del item seguido de *un* espacio:\n",
    "\n",
    "1. Fish\n",
    "2. Eggs<br>\n",
    "3. Cheese"
   ]
  },
  {
   "cell_type": "markdown",
   "metadata": {},
   "source": [
    "### ¡A practicar lista ordenada!"
   ]
  },
  {
   "cell_type": "markdown",
   "metadata": {},
   "source": []
  },
  {
   "cell_type": "markdown",
   "metadata": {},
   "source": [
    "## Lista desordenada\n",
    "\n",
    "Una lista desordenada (sin enumeración) se puede obtener con el tag &lt;ul&gt; y su tag de cierre &lt;/ul&gt; :\n",
    "\n",
    "&lt;ul&gt;<br>\n",
    "    &lt;li&gt;Fish&lt;/li&gt;<br>\n",
    "    &lt;li&gt;Eggs&lt;/li&gt;<br>\n",
    "    &lt;li&gt;Cheese&lt;/li&gt;<br>\n",
    "&lt;/ul&gt;\n",
    "\n",
    "Alternativamente se puede obtener una lista desordenada usando el símbolo '-' seguido de *un* espacio, o el símbolo '*'.\n",
    "\n",
    "\\- &nbsp; Fish<br>\n",
    "\\- &nbsp; Eggs<br>\n",
    "\\- &nbsp; Cheese<br>"
   ]
  },
  {
   "cell_type": "markdown",
   "metadata": {},
   "source": [
    "### ¡A practicar listas desordenadas!"
   ]
  },
  {
   "cell_type": "markdown",
   "metadata": {},
   "source": [
    "- an item\n",
    "- another item\n",
    "\n",
    "* another else\n"
   ]
  },
  {
   "cell_type": "markdown",
   "metadata": {},
   "source": [
    "## Links internos y externos\n",
    "\n",
    "<b>Un Link Interno</b> en Markdown comienza con &lt;a&gt; con un id único que relaciona el link con una sección del mismo notebook:<br>\n",
    "\n",
    "&lt;a id = \"division_ID\"text goes here&gt;&lt;/a&gt;<br>\n",
    "\n",
    "\\[Section title](#division_ID)\n",
    "\n",
    "<b>Un Link Externo</b> en Markdown  comienza con &lt;a&gt; se cierra con &lt;a&gt; tag, i.e., &lt;a&gt; y se requiere el atributo 'href' donde se especifica la URL destino.\n",
    "\n",
    "&lt;a href=\"https://www.google.com\" &gt;Link to Google&lt;/a&gt;"
   ]
  },
  {
   "cell_type": "markdown",
   "metadata": {},
   "source": [
    "### ¡A practicar links!"
   ]
  },
  {
   "cell_type": "markdown",
   "metadata": {},
   "source": [
    "[Este es el marcador](#capitulo_uno)\n"
   ]
  },
  {
   "cell_type": "markdown",
   "metadata": {},
   "source": [
    "[buscar](https://www.google.com)\n",
    "\n",
    "<a id= \"capitulo_uno\">Cap 1</a>\n",
    "\n",
    "\n",
    "\n",
    "esto es cualquier texto\n",
    "\n",
    "__mejorar esto__\n",
    "\n",
    "\n",
    "\n"
   ]
  },
  {
   "cell_type": "markdown",
   "metadata": {},
   "source": [
    "## Tabla\n",
    "\n",
    "Una tabla contiene información estructurada en filas y columnas, se construye con una combinación de '|' i.e. 'vertical pipe' para separar columnas y '-' i.e., hyphen symbol para delimitar el header de la tabla.\n",
    "\n",
    "\n",
    "<code>\n",
    "|Name|Address|Salary|\n",
    "|-----|-------|------|\n",
    "|Hanna|Brisbane|4000|\n",
    "|Adam|Sydney|5000|\n",
    " </code>\n",
    "\n",
    "Alternativamente se puede emplear la sintaxis de Markup:\n",
    "\n",
    "&lt;table style=\"width:20%\"&gt;<br>\n",
    " &lt;tr&gt;<br>\n",
    "    &lt;th&gt;&lt;Name&gt;&lt;/th&gt;<br>\n",
    "     &lt;th&gt;&lt;Address&gt;&lt;/th&gt;<br>\n",
    "      &lt;th&gt;&lt;Salary&gt;&lt;/th&gt;<br>\n",
    "   &lt;/tr&gt;  \n",
    "\n",
    "  &lt;tr&gt;<br>\n",
    "    &lt;td&gt;&lt;Hanna&gt;&lt;/td&gt;<br>\n",
    "     &lt;td&gt;&lt;Brisbane&gt;&lt;/td&gt;<br>\n",
    "      &lt;td&gt;&lt;4000&gt;&lt;/td&gt;<br>\n",
    "   &lt;/tr&gt;"
   ]
  },
  {
   "cell_type": "markdown",
   "metadata": {},
   "source": [
    "   &lt;tr&gt;<br>\n",
    "    &lt;td&gt;&lt;Adam&gt;&lt;/td&gt;<br>\n",
    "     &lt;td&gt;&lt;Sydney&gt;&lt;/td&gt;<br>\n",
    "      &lt;td&gt;&lt;5000&gt;&lt;/td&gt;<br>\n",
    "   &lt;/tr&gt;<br>\n",
    "&lt;/table&gt;"
   ]
  },
  {
   "cell_type": "markdown",
   "metadata": {},
   "source": [
    "### ¡A practicar tablas!"
   ]
  },
  {
   "cell_type": "markdown",
   "metadata": {},
   "source": [
    "|id|descripcion|valor|\n",
    "|----|----|----|\n",
    "|1|primer item|33|\n",
    "|2|segundoitem|/34|"
   ]
  },
  {
   "cell_type": "markdown",
   "metadata": {},
   "source": [
    "## Imagenes\n",
    "\n",
    "Para insertar una imagen en Markdown se emplea la siguiente sintaxis:\n",
    "\n",
    "```\n",
    "![](path-to-image/imagename.png)\n",
    "```\n",
    "\n",
    "Alternativamente y con más opciones de parámetros, se puede optar por la sintaxis de Markup:\n",
    "\n",
    " &lt;img&gt; &lt;src=\"https://i.imgur.com/WWrydEh.png\" width =\"500\" height=500 ><br>"
   ]
  },
  {
   "cell_type": "markdown",
   "metadata": {},
   "source": [
    "![](graphics/img.png)\n",
    "\n"
   ]
  },
  {
   "cell_type": "markdown",
   "metadata": {},
   "source": [
    "### ¡A practicar imagenes!"
   ]
  },
  {
   "cell_type": "markdown",
   "metadata": {},
   "source": [
    "![](IMG\\test.png)"
   ]
  },
  {
   "cell_type": "markdown",
   "metadata": {},
   "source": [
    "Más info: <a href=\"https://www.markdownguide.org/getting-started/\">Markdown Guide</a>."
   ]
  }
 ],
 "metadata": {
  "jupytext": {
   "cell_metadata_filter": "-all",
   "main_language": "python",
   "notebook_metadata_filter": "-all"
  },
  "kernelspec": {
   "display_name": "Python 3",
   "language": "python",
   "name": "python3"
  },
  "language_info": {
   "codemirror_mode": {
    "name": "ipython",
    "version": 3
   },
   "file_extension": ".py",
   "mimetype": "text/x-python",
   "name": "python",
   "nbconvert_exporter": "python",
   "pygments_lexer": "ipython3",
   "version": "3.6.1"
  }
 },
 "nbformat": 4,
 "nbformat_minor": 5
}
