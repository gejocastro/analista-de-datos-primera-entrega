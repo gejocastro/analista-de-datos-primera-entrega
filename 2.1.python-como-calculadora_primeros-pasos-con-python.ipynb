{
 "cells": [
  {
   "cell_type": "markdown",
   "metadata": {
    "id": "21247f65-482b-478e-a8b5-971acebed8bd",
    "tags": []
   },
   "source": [
    "# **MÓDULO 2 - PRIMEROS PASOS CON PYTHON**"
   ]
  },
  {
   "cell_type": "markdown",
   "metadata": {},
   "source": [
    "* **NO** se necesita un editor para programar en Python.\n",
    "* **NO** se necesita jupyter para programar en python.  \n",
    "Una vez que se instala Python en el Sistema Operativo, está disponible el *intérprete* de Python:\n",
    "\n",
    "```sh\n",
    "$ python\n",
    "Python 3.10 (default, June 4 2019, 09:25:04)\n",
    "[GCC 4.8.2] on linux\n",
    "Type \"help\", \"copyright\", \"credits\" or \"license\" for more information.\n",
    ">>>\n",
    "``` \n",
    "\n",
    "El prompt `>>>` indica la presencia del intérprete interactivo de Python, que *entiende* sintaxis de Python\n",
    "\n",
    "```sh\n",
    ">>> the_world_is_flat = True\n",
    ">>> if the_world_is_flat:\n",
    "...     print(\"Be careful not to fall off!\")\n",
    "...\n",
    "Be careful not to fall off!\n",
    "``` "
   ]
  },
  {
   "cell_type": "markdown",
   "metadata": {},
   "source": [
    "## Python como calculadora\n",
    "### Operaciones básicas"
   ]
  },
  {
   "cell_type": "code",
   "execution_count": null,
   "metadata": {
    "collapsed": true,
    "id": "4a561654-ced5-4784-94fe-31b677777034"
   },
   "outputs": [],
   "source": [
    "23 + 49  # suma "
   ]
  },
  {
   "cell_type": "code",
   "execution_count": 48,
   "metadata": {
    "id": "2e376bdb-531a-4a42-8de5-cb01be080e4e"
   },
   "outputs": [
    {
     "data": {
      "text/plain": [
       "4"
      ]
     },
     "execution_count": 48,
     "metadata": {},
     "output_type": "execute_result"
    }
   ],
   "source": [
    "2 + 2"
   ]
  },
  {
   "cell_type": "code",
   "execution_count": 45,
   "metadata": {
    "id": "050c4024-d8e4-46a3-aaf8-8b1313bb2102"
   },
   "outputs": [
    {
     "data": {
      "text/plain": [
       "(2+2j)"
      ]
     },
     "execution_count": 45,
     "metadata": {},
     "output_type": "execute_result"
    }
   ],
   "source": [
    " 2 + 2j"
   ]
  },
  {
   "cell_type": "code",
   "execution_count": 46,
   "metadata": {
    "id": "a8f5f000-ea66-4400-9489-ab3de529b388"
   },
   "outputs": [
    {
     "ename": "SyntaxError",
     "evalue": "invalid syntax (<ipython-input-46-528ece751aab>, line 1)",
     "output_type": "error",
     "traceback": [
      "\u001b[1;36m  File \u001b[1;32m\"<ipython-input-46-528ece751aab>\"\u001b[1;36m, line \u001b[1;32m1\u001b[0m\n\u001b[1;33m    2 + 2i\u001b[0m\n\u001b[1;37m         ^\u001b[0m\n\u001b[1;31mSyntaxError\u001b[0m\u001b[1;31m:\u001b[0m invalid syntax\n"
     ]
    }
   ],
   "source": [
    " 2 + 2i"
   ]
  },
  {
   "cell_type": "code",
   "execution_count": null,
   "metadata": {
    "collapsed": true,
    "id": "9145ab2f-9e7d-4325-b76c-ca802d7ad7ff"
   },
   "outputs": [],
   "source": [
    "# 2 + 2.0"
   ]
  },
  {
   "cell_type": "code",
   "execution_count": null,
   "metadata": {
    "collapsed": true,
    "id": "8b7f9ea1-7be7-40e9-ad07-503a48b3e391"
   },
   "outputs": [],
   "source": [
    "# resta\n",
    "189 - 97"
   ]
  },
  {
   "cell_type": "code",
   "execution_count": null,
   "metadata": {
    "collapsed": true,
    "id": "b7493bc9-bb58-40e4-bf27-93b00c0a9c39"
   },
   "outputs": [],
   "source": [
    "189 - '97'"
   ]
  },
  {
   "cell_type": "code",
   "execution_count": null,
   "metadata": {
    "collapsed": true,
    "id": "33a9997b-9c54-442e-a0b0-f4d91ab274ce"
   },
   "outputs": [],
   "source": [
    "- 189 - 97"
   ]
  },
  {
   "cell_type": "code",
   "execution_count": null,
   "metadata": {
    "collapsed": true,
    "id": "b07ae7e8-109d-47bc-b54b-3a308dbf45d0"
   },
   "outputs": [],
   "source": [
    "# producto\n",
    "12 * 5"
   ]
  },
  {
   "cell_type": "code",
   "execution_count": null,
   "metadata": {
    "collapsed": true,
    "id": "577c8699-e58e-4640-a33d-99ed24a50cf5"
   },
   "outputs": [],
   "source": [
    "12 ** 5"
   ]
  },
  {
   "cell_type": "code",
   "execution_count": null,
   "metadata": {
    "collapsed": true,
    "id": "a640f0d8-cda9-44d1-9846-f1b9ccf57b58"
   },
   "outputs": [],
   "source": [
    "# cociente\n",
    "12 / 5"
   ]
  },
  {
   "cell_type": "code",
   "execution_count": null,
   "metadata": {
    "collapsed": true,
    "id": "a148c308-6af8-4bd3-8df0-d9733168b93e"
   },
   "outputs": [],
   "source": [
    "# 12 // 5"
   ]
  },
  {
   "cell_type": "code",
   "execution_count": null,
   "metadata": {
    "collapsed": true,
    "id": "1576cfa5-cd81-414f-9bfc-2fab7e9b060c"
   },
   "outputs": [],
   "source": [
    "# 12 % 5"
   ]
  },
  {
   "cell_type": "code",
   "execution_count": null,
   "metadata": {
    "collapsed": true,
    "id": "c72bee58-280c-463d-a611-ba86046bb940"
   },
   "outputs": [],
   "source": [
    "# 2 *** 3"
   ]
  },
  {
   "cell_type": "markdown",
   "metadata": {
    "id": "5fead847-1c9f-4db3-b9f3-33d4556882e5"
   },
   "source": [
    "Es posible dar prioridad a operaciones:"
   ]
  },
  {
   "cell_type": "code",
   "execution_count": null,
   "metadata": {
    "collapsed": true,
    "id": "d5f3b940-b4b8-463e-b067-f83db94e3d0c"
   },
   "outputs": [],
   "source": [
    "(4 + 3) * (-1 * 2)"
   ]
  },
  {
   "cell_type": "markdown",
   "metadata": {
    "id": "1e4905ef-b6ad-4a51-971a-40fbdc371f15"
   },
   "source": [
    "#### math"
   ]
  },
  {
   "cell_type": "code",
   "execution_count": null,
   "metadata": {
    "collapsed": true,
    "id": "77a12f91-ad9c-4ff0-b87e-ee4fcaa5e29d"
   },
   "outputs": [],
   "source": [
    "import math"
   ]
  },
  {
   "cell_type": "code",
   "execution_count": null,
   "metadata": {
    "collapsed": true,
    "id": "4562ce76-4993-477c-b533-d88bc695a682"
   },
   "outputs": [],
   "source": [
    "# Raiz Cuadrada\n",
    "math.sqrt(16)"
   ]
  },
  {
   "cell_type": "code",
   "execution_count": null,
   "metadata": {
    "collapsed": true,
    "id": "fa3c3096-e39c-4094-a850-60f426a08f94"
   },
   "outputs": [],
   "source": [
    "from math import pi\n",
    "pi"
   ]
  },
  {
   "cell_type": "markdown",
   "metadata": {
    "id": "14261df2-c2e0-4148-9597-9db48062d8c2",
    "tags": []
   },
   "source": [
    "#### ¡Explorar!\n",
    "`math. + tab+tab`"
   ]
  },
  {
   "cell_type": "code",
   "execution_count": 23,
   "metadata": {
    "collapsed": true,
    "id": "01228516-8947-45d3-8d63-d6ea391918e4"
   },
   "outputs": [],
   "source": [
    "import math\n",
    "\n"
   ]
  },
  {
   "cell_type": "code",
   "execution_count": 24,
   "metadata": {},
   "outputs": [],
   "source": [
    "math.sqrt(25)\n",
    "from math import pi"
   ]
  },
  {
   "cell_type": "code",
   "execution_count": 11,
   "metadata": {},
   "outputs": [
    {
     "data": {
      "text/plain": [
       "3.141592653589793"
      ]
     },
     "execution_count": 11,
     "metadata": {},
     "output_type": "execute_result"
    }
   ],
   "source": [
    "pi"
   ]
  },
  {
   "cell_type": "markdown",
   "metadata": {
    "id": "a4960c51-bac5-4409-a6bf-69c705ccfcbb",
    "tags": []
   },
   "source": [
    "### ✏️ Ejercicios Python como calculadora \n",
    "\n",
    "#### Sincrónicos"
   ]
  },
  {
   "cell_type": "markdown",
   "metadata": {
    "id": "35bca4c7-83b6-4d09-937c-6406b61a09b5",
    "tags": []
   },
   "source": [
    "* Calcular el área de las siguientes figuras:\n",
    "\n",
    "![](https://cdn1.byjus.com/wp-content/uploads/2018/11/maths/2016/06/14093138/167.png)\n",
    "\n",
    "siendo:\n",
    "\n",
    "$a = 13 cm$  \n",
    "$b = 25.7 cm$  \n",
    "$h = 10 cm$  \n",
    "$s = 6.5 cm$  \n"
   ]
  },
  {
   "cell_type": "code",
   "execution_count": 33,
   "metadata": {},
   "outputs": [],
   "source": [
    "a=13\n",
    "b=25.7\n",
    "h=10\n",
    "s=6.5\n",
    "r=13\n"
   ]
  },
  {
   "cell_type": "code",
   "execution_count": 36,
   "metadata": {
    "id": "6095e20a-2c0f-4c45-b7c4-be5fdd78f935"
   },
   "outputs": [
    {
     "name": "stdout",
     "output_type": "stream",
     "text": [
      "Area del cuadrado:  42.25 cm2\n"
     ]
    }
   ],
   "source": [
    "# cuadrado\n",
    "A_cuadrado=s**2\n",
    "print(\"Area del cuadrado: \",A_cuadrado,\"cm2\")"
   ]
  },
  {
   "cell_type": "code",
   "execution_count": 16,
   "metadata": {
    "id": "f663f7a4-99ef-4aa5-a7a7-aeed2a90e7cd",
    "tags": []
   },
   "outputs": [
    {
     "name": "stdout",
     "output_type": "stream",
     "text": [
      "Area del rectangulo:  257.0 cm\n"
     ]
    }
   ],
   "source": [
    "# rectángulo\n",
    "A_rectangulo=b*h\n",
    "print(\"Area del rectangulo: \",A_rectangulo,\"cm2\")"
   ]
  },
  {
   "cell_type": "code",
   "execution_count": 42,
   "metadata": {
    "id": "SUZGVqT-zKpg",
    "tags": []
   },
   "outputs": [
    {
     "name": "stdout",
     "output_type": "stream",
     "text": [
      "Area del cìrculo:  530.929158456675 cm2\n"
     ]
    }
   ],
   "source": [
    "# círculo\n",
    "A_circulo=pi * r**2\n",
    "print(\"Area del cìrculo: \",A_circulo,\"cm2\")"
   ]
  },
  {
   "cell_type": "code",
   "execution_count": 27,
   "metadata": {
    "id": "VKR1pcLo0olR",
    "tags": []
   },
   "outputs": [
    {
     "name": "stdout",
     "output_type": "stream",
     "text": [
      "Area del trapezoide:  193.5 cm2\n"
     ]
    }
   ],
   "source": [
    "# trapezoide\n",
    "A_trapezoide=(a+b)*h/2\n",
    "print(\"Area del trapezoide: \",A_trapezoide,\"cm2\")"
   ]
  },
  {
   "cell_type": "code",
   "execution_count": 28,
   "metadata": {},
   "outputs": [
    {
     "name": "stdout",
     "output_type": "stream",
     "text": [
      "Area del triangulo:  128.5 cm2\n"
     ]
    }
   ],
   "source": [
    "# triangulo\n",
    "A_triangulo=b*h/2\n",
    "print(\"Area del triangulo: \",A_triangulo,\"cm2\")\n"
   ]
  },
  {
   "cell_type": "code",
   "execution_count": 29,
   "metadata": {},
   "outputs": [
    {
     "name": "stdout",
     "output_type": "stream",
     "text": [
      "Area de la elipse:  1049.60610556435 cm2\n"
     ]
    }
   ],
   "source": [
    "# elipse\n",
    "A_elipse=pi*a*b\n",
    "print(\"Area de la elipse: \",A_elipse,\"cm2\")"
   ]
  },
  {
   "cell_type": "code",
   "execution_count": 30,
   "metadata": {},
   "outputs": [
    {
     "name": "stdout",
     "output_type": "stream",
     "text": [
      "Area del paralelogramo:  257.0 cm2\n"
     ]
    }
   ],
   "source": [
    "# paralelogramo\n",
    "A_paralelogramo=b*h\n",
    "print(\"Area del paralelogramo: \",A_paralelogramo,\"cm2\")"
   ]
  },
  {
   "cell_type": "markdown",
   "metadata": {
    "id": "1ca14918-1243-4222-9fab-a193feb764ed",
    "tags": []
   },
   "source": [
    "#### Asincrónicos"
   ]
  },
  {
   "cell_type": "markdown",
   "metadata": {
    "id": "e9ac481c-ada8-4848-9d3b-5f79957ee701",
    "tags": []
   },
   "source": [
    "Calcular el resultado de las siguientes expresiones:\n",
    "\n",
    "$$\n",
    "\\frac{49-12}{25 \\cdot 6} + 2\\,\\cdot\\sqrt{25 + 66.2}\\,\\cdot 49\n",
    "$$"
   ]
  },
  {
   "cell_type": "code",
   "execution_count": 32,
   "metadata": {},
   "outputs": [
    {
     "data": {
      "text/plain": [
       "936.1338393536311"
      ]
     },
     "execution_count": 32,
     "metadata": {},
     "output_type": "execute_result"
    }
   ],
   "source": [
    "(49-12)/(25*6) + 2* 49 * math.sqrt(25+66.2)"
   ]
  },
  {
   "cell_type": "markdown",
   "metadata": {},
   "source": [
    "- tax = 0.21 · price\n",
    "- total_price = price + tax\n",
    "- price = $ 2200.45"
   ]
  },
  {
   "cell_type": "code",
   "execution_count": 49,
   "metadata": {},
   "outputs": [
    {
     "name": "stdout",
     "output_type": "stream",
     "text": [
      "2662.5445\n"
     ]
    }
   ],
   "source": [
    "price=2200.45\n",
    "tax=0.21 * price\n",
    "total_price= price + tax\n",
    "print(total_price)"
   ]
  },
  {
   "cell_type": "markdown",
   "metadata": {},
   "source": []
  },
  {
   "cell_type": "markdown",
   "metadata": {},
   "source": [
    "### Para investigar 🔎\n",
    "\n",
    "¿Cómo obtener sólo *dos* decimales después de la coma para el precio del ejercicio anterior?"
   ]
  },
  {
   "cell_type": "code",
   "execution_count": 57,
   "metadata": {},
   "outputs": [
    {
     "name": "stdout",
     "output_type": "stream",
     "text": [
      "2662.54\n"
     ]
    }
   ],
   "source": [
    "price=2200.45\n",
    "tax=0.21 * price\n",
    "total_price= price + tax\n",
    "print(\"{0:.2f}\".format(total_price))"
   ]
  },
  {
   "cell_type": "markdown",
   "metadata": {
    "id": "aa3885a2-7cf2-4209-9793-385248ee4a15",
    "tags": []
   },
   "source": [
    "Recrear el algoritmo de evaluación de Monte Carlo de la presentación para los siguientes valores: *(la idea de este ejercicio es NO copiar y pegar)*\n",
    "\n",
    "![](https://thumbs.gfycat.com/BelatedLikableGoa-size_restricted.gif)"
   ]
  },
  {
   "cell_type": "markdown",
   "metadata": {
    "id": "950174cb-c453-4d37-9e9b-0a9fadf3b8a4",
    "tags": []
   },
   "source": [
    "$S_0$ = 123.  \n",
    "K = 164.  \n",
    "T = 1.0  \n",
    "r = 0.072  \n",
    "$\\sigma$ = 0.3  \n",
    "I = 1500000  "
   ]
  },
  {
   "cell_type": "markdown",
   "metadata": {},
   "source": [
    "> tip: Para los tipos de datos numéricos en python se puede usar `_` como punto de mil, esto facilita la lectura, por ejemplo: `1_500_000`"
   ]
  },
  {
   "cell_type": "markdown",
   "metadata": {},
   "source": [
    "Co=e−rT1T∑hT(i)"
   ]
  },
  {
   "cell_type": "code",
   "execution_count": null,
   "metadata": {
    "collapsed": true,
    "id": "040c09da-f303-4f47-852b-4b882999c99a"
   },
   "outputs": [],
   "source": []
  },
  {
   "cell_type": "markdown",
   "metadata": {
    "id": "kCGQWeVGzqWa"
   },
   "source": [
    "### Para investigar 🔎\n",
    "\n",
    "Investigar y determinar **tres formas diferentes** de calcular la *raíz cuadrada de un número en Python*.  \n",
    "> pro tip: una de ellas tiene que ver con un operador abordado en clases, la otra con una librería también vista en clase, y la última con una función que a descubrir *\"googleando\"*."
   ]
  },
  {
   "cell_type": "code",
   "execution_count": null,
   "metadata": {
    "collapsed": true
   },
   "outputs": [],
   "source": []
  },
  {
   "cell_type": "markdown",
   "metadata": {},
   "source": [
    "¿Cómo generar números aleatorios con Python?"
   ]
  },
  {
   "cell_type": "code",
   "execution_count": null,
   "metadata": {},
   "outputs": [],
   "source": []
  },
  {
   "cell_type": "markdown",
   "metadata": {
    "id": "klteicGFgLkG"
   },
   "source": [
    "> Más info: [Usando Python como calculadora - Tutorial oficial de Python](https://docs.python.org/es/3/tutorial/introduction.html#using-python-as-a-calculator)"
   ]
  }
 ],
 "metadata": {
  "colab": {
   "collapsed_sections": [],
   "name": "1.modulo_1-introduccion-clase_2.ipynb",
   "provenance": [],
   "toc_visible": true
  },
  "kernelspec": {
   "display_name": "Python 3",
   "language": "python",
   "name": "python3"
  },
  "language_info": {
   "codemirror_mode": {
    "name": "ipython",
    "version": 3
   },
   "file_extension": ".py",
   "mimetype": "text/x-python",
   "name": "python",
   "nbconvert_exporter": "python",
   "pygments_lexer": "ipython3",
   "version": "3.6.1"
  }
 },
 "nbformat": 4,
 "nbformat_minor": 5
}
