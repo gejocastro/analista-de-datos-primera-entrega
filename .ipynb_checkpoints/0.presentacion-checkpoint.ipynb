{
 "cells": [
  {
   "cell_type": "markdown",
   "metadata": {
    "id": "9179b88e-b974-48bd-bbf3-01d619b1d181",
    "tags": []
   },
   "source": [
    "# **ANÁLISIS DE DATOS 2022**\n",
    "\n",
    "[![forthebadge made-with-python](http://ForTheBadge.com/images/badges/made-with-python.svg)](https://www.python.org/)\n",
    "![ForTheBadge built-with-love](http://ForTheBadge.com/images/badges/built-with-love.svg)\n",
    "\n",
    "\n",
    "![](https://media1.tenor.com/images/b6dd2b1d552a416b09947d45b170959e/tenor.gif?itemid=10975860)\n",
    "\n",
    "[Hello, Hi, Monty Python](https://tenor.com/view/hello-hi-monty-python-silly-good-gif-10975860) de [tenor](https://tenor.com)"
   ]
  },
  {
   "cell_type": "markdown",
   "metadata": {
    "id": "a3c8d32a-f079-412e-9370-63a7a1d6af09",
    "tags": []
   },
   "source": [
    "## Sobre este curso\n",
    "\n",
    "### Sobre nosotras\n",
    "\n",
    "* Bibiana, *bibo*\n",
    "    * 🐍 Pythonista\n",
    "    * 📡 Ingeniera\n",
    "    * 🍎 Doncente\n",
    "    \n",
    "* Valentina, *vale*\n",
    "    * 💻 Ingeniera\n",
    "    * 👩‍💻 Desarrolladora \n",
    "    * ❤️ Python"
   ]
  },
  {
   "cell_type": "markdown",
   "metadata": {
    "id": "4d3066eb-3e84-4ff4-b0c2-39c5745d910e",
    "tags": []
   },
   "source": [
    "## Sobre este curso\n",
    "\n",
    "* ¿Primera vez programando?\n",
    "* ¿Te topaste con R?\n",
    "* ¿Cuántas hs al día pasás en excel?\n",
    "* ¿Por qué Python?\n",
    "\n"
   ]
  },
  {
   "cell_type": "markdown",
   "metadata": {
    "id": "a07268ea-8f3e-4045-98d3-eb5c79b313e2",
    "tags": []
   },
   "source": [
    "## Sobre este curso\n",
    "\n",
    "### 🤓 Modalidad\n",
    "\n",
    "* 3 clases por semana\n",
    "* quiz en cada clase \n",
    "* 2 entregas\n",
    "\n",
    "Estructura de las clases:\n",
    "\n",
    "* **Introducción**: Breve repaso sobre los conceptos de la clase anterior. Comentarios sobre ejercicios asincrónicos.\n",
    "* **Desarrollo**: Conceptos planificados, ejercicios sincrónicos.\n",
    "* **Cierre**: Breve comentario sobre lo abordado, quiz."
   ]
  },
  {
   "cell_type": "markdown",
   "metadata": {
    "id": "b6ea6d3e-0aff-426d-8354-f0ba3768b8be",
    "tags": []
   },
   "source": [
    "## Sobre este curso\n",
    "\n",
    "### 📚 Plan de estudios \n",
    "\n",
    "**Módulo 1: Introducción y pre requisitos:**  \n",
    "Se presenta el curso, las herramientas necesarias y satélites.  \n",
    "-Presentación del curso y herramientas necesarias.  \n",
    "-Introducción a la programación y a la terminal.  \n",
    "-Introducción a la programación con Python.   \n",
    "-Markdown, Git y github."
   ]
  },
  {
   "cell_type": "markdown",
   "metadata": {
    "id": "c006781e-3fd4-4468-bac4-cbe5258bebe0",
    "tags": []
   },
   "source": [
    "## Sobre este curso\n",
    "\n",
    "### 📚 Plan de estudios \n",
    "\n",
    "**Módulo 2: Primeros pasos con Python:**\n",
    "\n",
    "Primer acercamiento a cálculos en python, definición de los tipos de datos elementales y sus operadores, ejercicios sincrónicos a resolver en conjunto y asincrónicos propuestos.  "
   ]
  },
  {
   "cell_type": "markdown",
   "metadata": {
    "id": "161d22c6-a25d-4026-938e-491dec0fd3eb",
    "tags": []
   },
   "source": [
    "## Sobre este curso\n",
    "\n",
    "### 📚 Plan de estudios \n",
    "\n",
    "**Módulo 3: Fundamentos de programación con Python**\n",
    "\n",
    "De los tipos de datos elementales a estructuras de datos, haciendo hincapié en las características, atributos y métodos de cada una de ellas, así como de las estructuras de control de flujo disponibles en Python. ejercicios sincrónicos a resolver en conjunto y asincrónicos propuestos.  \n",
    "-Estructuras de datos (listas, conjuntos, diccionarios, tuplas)   \n",
    "-Puesta en común de ejercicios asincrónicos   \n",
    "-Sentencias de control de flujo (If, For, While, Try-except, List Comprehensions 1)   \n",
    "-Puesta en común de ejercicios asincrónicos   \n"
   ]
  },
  {
   "cell_type": "markdown",
   "metadata": {
    "id": "31845c3b-fd7a-4342-8620-f82a4c688ee2",
    "tags": []
   },
   "source": [
    "## Sobre este curso\n",
    "\n",
    "### 📚 Plan de estudios \n",
    "\n",
    "**Módulo 4: Modularización**\n",
    "\n",
    "Lectura, interpretación y confección de funciones propias para resolución de ejercicios del estilo tech interview aplicando buenas prácticas.  \n",
    "-Funciones módulos y programas   \n",
    "-Puesta en común de ejercicios asincrónicos   \n"
   ]
  },
  {
   "cell_type": "markdown",
   "metadata": {
    "id": "83d0b3cb-4a0d-4c36-b369-8f3c254d2397",
    "tags": []
   },
   "source": [
    "## Sobre este curso\n",
    "\n",
    "### 📚 Plan de estudios \n",
    "\n",
    "**Módulo 5: Práctica bases de Python**\n",
    "\n",
    "Te proponemos un ejercicio integrador y progresivo del mundo real con puesta en común clase a clase.  \n",
    "-Ejercicio integrador y progresivo con puesta en común clase a clase.  \n",
    "-Resolver problemas usando variables y operaciones aritméticas.  \n",
    "-Manipular diferentes tipos de datos usando métodos y operadores.  \n",
    "-Usar estructuras de datos y de control de flujos para traducir ideas a código.  \n",
    "-Explorar la documentación y obtener ayuda de la comunidad.  \n",
    "Importación de sets de datos de diferentes fuentes (OS & Filesystem, API requests, beautiful soap).\n"
   ]
  },
  {
   "cell_type": "markdown",
   "metadata": {
    "id": "tL0HlHgb7EuO",
    "tags": []
   },
   "source": [
    "## Sobre este curso\n",
    "\n",
    "### 📚 Plan de estudios \n",
    "\n",
    "**Módulo 6: Introducción al Cómputo numérico con Numpy**\n",
    "\n",
    "De listas a vectores con Numpy, operaciones sobre vectores, de archivos csv con datos del mundo real a vectores.\n"
   ]
  },
  {
   "cell_type": "markdown",
   "metadata": {
    "id": "AZWsT0yt7GlG",
    "tags": []
   },
   "source": [
    "## Sobre este curso\n",
    "\n",
    "### 📚 Plan de estudios \n",
    "\n",
    "**Módulo 7: Introducción al Paradigma Orientado a Objetos**\n",
    "\n",
    "En Python todo es un objeto, y la programación orientada a objetos tiene una gran presencia en la industria. Aprenderemos a utilizar este paradigma de programación para atacar problemas de manera sencilla y escalable.\n"
   ]
  },
  {
   "cell_type": "markdown",
   "metadata": {
    "id": "8076de92-ca23-424e-ac51-356b8db8073f",
    "tags": []
   },
   "source": [
    "## 🐍 Sobre Python \n",
    "\n",
    "### Breve reseña histórica\n",
    "\n",
    "Python fue creado a finales de los 80's por\n",
    "\n",
    "![](https://upload.wikimedia.org/wikipedia/commons/thumb/6/66/Guido_van_Rossum_OSCON_2006.jpg/130px-Guido_van_Rossum_OSCON_2006.jpg)\n",
    "\n",
    "[Guido van Rossum](https://es.wikipedia.org/wiki/Python#/media/File:Guido_van_Rossum_OSCON_2006.jpg) de [Doc Searls](https://es.wikipedia.org/wiki/Python#/media/File:Guido_van_Rossum_OSCON_2006.jpg) / [CC by SA 2.0](https://creativecommons.org/licenses/by-sa/2.0/deed.en)\n",
    "\n",
    "en países bajos."
   ]
  },
  {
   "cell_type": "markdown",
   "metadata": {
    "id": "38213254-bdc6-4cb9-81a7-045fc6140902",
    "tags": []
   },
   "source": [
    "## 🐍 Sobre Python\n",
    "\n",
    "### ¿Por qué python?\n",
    "\n",
    "* Multipropósito\n",
    "* Fácil de aprender, lenguaje de alto nivel\n",
    "* Fácil de leer, sintaxis *simple, clara y sencilla*\n",
    "\n",
    "¡Pero poderoso!\n",
    "\n",
    "* Interpretado (flexible, portable)\n",
    "* Multiplataforma\n",
    "* Multiparadigma\n",
    "* Tipado dinámico\n",
    "\n",
    "* Open source\n",
    "* Comunidad\n",
    "* Bibliotecas"
   ]
  },
  {
   "cell_type": "markdown",
   "metadata": {
    "id": "61765e81-5582-47f5-82f6-bf46bdc44a6d",
    "tags": []
   },
   "source": [
    "## 🐍 Sobre Python\n",
    "### Python en el mundo\n",
    "\n",
    "Python reportó la mayor tasa de crecimiento en [Stack overflow trends](https://insights.stackoverflow.com/trends?utm_source=so-owned&utm_medium=blog&utm_campaign=trends&utm_content=blog-link&tags=python%2Cjava%2Cphp%2Cruby%2Cperl) en los últimos años:"
   ]
  },
  {
   "cell_type": "markdown",
   "metadata": {
    "id": "9adde59b-3f4b-461b-bb20-20e7ac6693dc",
    "tags": []
   },
   "source": [
    "## 🐍 Sobre Python\n",
    "### Python en el mundo\n",
    "Se encuentra en el **primer lugar** del ranking de popularidad de lenguajes de programación [PYPL PopularitY of Programming Language](http://pypl.github.io/PYPL.html) 2021:"
   ]
  },
  {
   "cell_type": "markdown",
   "metadata": {
    "id": "498bb07e-5b32-4b5b-b463-8e5a40d4298f",
    "tags": []
   },
   "source": [
    "## 🐍 Sobre Python\n",
    "### Python en el mundo\n",
    "Se encuentra en el **primer lugar** *POR PRIMERA VEZ* del [TIOBE Index for October 2021](https://www.tiobe.com/tiobe-index/):\n",
    ":\n"
   ]
  },
  {
   "cell_type": "markdown",
   "metadata": {
    "id": "46e81c32-38f0-49ac-a20b-12f83552d035",
    "tags": []
   },
   "source": [
    "## 🐍 Sobre Python\n",
    "### Python en el mundo\n",
    "\n",
    "Y en el **top 3** del ranking por lenguaje en [GitHub](https://github.com/):\n",
    "\n",
    "Fuente: [GitHut A small place to discover languages in GitHub](https://githut.info/)"
   ]
  },
  {
   "cell_type": "markdown",
   "metadata": {
    "id": "f5f436b5-2cf4-4183-bc33-ecfb6a677222",
    "tags": []
   },
   "source": [
    "## 🐍 Sobre Python\n",
    "\n",
    "### ¿Quién usa Python?\n",
    "\n",
    "![](https://digitalshyna.com/wp-content/uploads/2021/03/top-20-mncs-using-python-768x461-1.jpg)"
   ]
  },
  {
   "cell_type": "markdown",
   "metadata": {
    "id": "b9ca8367-373a-4fb9-9107-4419cc06a87a",
    "tags": []
   },
   "source": [
    "## 🐍 Sobre Python\n",
    "### ¿Para qué lo usan?\n",
    "\n",
    "* Inteligencia artificial ([Keras](https://keras.io/), [Tensorflow](https://www.tensorflow.org/?hl=es)) \n",
    "* Bigdata ([Pydoop](https://crs4.github.io/pydoop/), [Dask](https://dask.org/))\n",
    "* Data Science ([Pandas](https://pandas.pydata.org/), [Numpy](https://www.numpy.org/), [Matplotlib](https://matplotlib.org/))\n",
    "* Desarrollo web ([Django](https://www.djangoproject.com/), [Flask](http://flask.pocoo.org/))"
   ]
  },
  {
   "cell_type": "markdown",
   "metadata": {
    "id": "895ffe4e-974c-40fd-9040-bb86393b2dc0",
    "tags": []
   },
   "source": [
    "## 🐍 Sobre Python\n",
    "### Mundo financiero vs IT - Python\n",
    "\n",
    "La velocidad, frecuencia y volumenes de datos cambiaron drásticamente en los últimos años en el campo financiero, lo que implica una enorme necesidad de atacar aspectos como:\n",
    "\n",
    "* **Procesamiento de datos**: Se producen demasiadas transacciones y cambios durante sólo un día, y se necesitan instrumentos las 24hs del día y los 7 días de la semana.\n",
    "* **Velocidad de análisis**: Las decisiones financieras muchas veces se deben hacer en milisegundos o más velozmente, de manera que se hace necesario contar con capacidad de análisis de grandes cantidades de datos (*big data*) en tiempo real *(real-time-economy*).\n",
    "* **Fundamentos teóricos**: Conceptos teóricos de las finanzas que demuestren robustez a lo largo del tiempo son todavía necesarios."
   ]
  },
  {
   "cell_type": "markdown",
   "metadata": {
    "id": "2b6b2fbd-9bfd-42ad-919c-516c05d604c1",
    "tags": []
   },
   "source": [
    "## 🐍 Sobre Python\n",
    "### Mundo financiero vs IT - Python\n",
    "\n",
    "* La sintaxis de Python es muy similar a la que se usa para describir un problema científico o de algoritmos financieros. Ejemplo con la simulación de Monte Carlo:\n",
    "\n",
    "* Initial stock index level $S_0 = 100$  \n",
    "* Strike price of the European call option $K = 105$\n",
    "* Time to maturity $T = 1 year$\n",
    "* Constant, riskless short rate $r = 0.05$\n",
    "* Constant volatility σ $ = 0.2$\n",
    "\n",
    "El índice de nivel de madurez/vencimiento está dado por la siguiente ecuación de distribución normal:\n",
    "\n",
    "$S_T = S_o e^{(r-\\frac{1}{2}\\sigma^2)T + \\sigma\\sqrt{T}z}$"
   ]
  },
  {
   "cell_type": "markdown",
   "metadata": {
    "id": "a3979b91-d3b8-45af-a39a-b6e8bc5a6f76",
    "tags": []
   },
   "source": [
    "## 🐍 Sobre Python\n",
    "### Mundo financiero vs IT - Python\n",
    "\n",
    "El algoritmo para el procedimiento de evaluación de Monte Carlo es:\n",
    "* Construir una $z(i)$ con números pseudo-aleatorios, calcular los valores de madurez/vencimiento como $h_T(i) = max(S_T(i) - K, 0)$\n",
    "* Estimar la opción de valor presente con el estimador de Monte Carlo:\n",
    "\n",
    "$C_o = e^{-rT}\\frac{1}{T}\\sum{h_T(i)}$"
   ]
  },
  {
   "cell_type": "markdown",
   "metadata": {
    "id": "3786d1f5-5d23-4b36-b008-93dc2e3addf5",
    "tags": []
   },
   "source": [
    "## 🐍 Sobre Python\n",
    "### Mundo financiero vs IT - Python\n",
    "\n",
    "\"Traducción\" del algoritmo en Python:"
   ]
  },
  {
   "cell_type": "code",
   "execution_count": null,
   "metadata": {
    "collapsed": true,
    "id": "8a803b1b-8945-492c-a594-337ecc7966bc",
    "tags": []
   },
   "outputs": [],
   "source": [
    "import math\n",
    "import numpy as np"
   ]
  },
  {
   "cell_type": "code",
   "execution_count": null,
   "metadata": {
    "collapsed": true,
    "id": "d5bfc5f5-dbe2-47ea-9050-725f486fd757",
    "tags": []
   },
   "outputs": [],
   "source": [
    "S0 = 100.\n",
    "K = 105.\n",
    "T = 1.0\n",
    "r = 0.05\n",
    "sigma = 0.2\n",
    "I = 100000"
   ]
  },
  {
   "cell_type": "code",
   "execution_count": null,
   "metadata": {
    "collapsed": true,
    "id": "b16a2b09-a1cc-40b4-a32f-234129a9b069",
    "tags": []
   },
   "outputs": [],
   "source": [
    "np.random.seed(1000)\n",
    "z = np.random.standard_normal(I)  # Modelo de distribución de probabilidad normal definido\n",
    "\n",
    "ST = S0 * np.exp((r - sigma ** 2 / 2) * T + sigma * math.sqrt(T) * z)\n",
    "hT = np.maximum(ST - K, 0)\n",
    "C0 = math.exp(-r * T) * np.mean(hT)"
   ]
  },
  {
   "cell_type": "code",
   "execution_count": null,
   "metadata": {
    "id": "2fd06cc6-f03a-46d7-b708-3a6d708f5e9e",
    "outputId": "cc471deb-cf87-49fe-a215-c7016b276c6b",
    "tags": []
   },
   "outputs": [
    {
     "name": "stdout",
     "output_type": "stream",
     "text": [
      "Value of the Europan call option: 8.019103194705476 value of the European call option: 8.019\n"
     ]
    }
   ],
   "source": [
    "print(f\"Value of the Europan call option: {C0} value of the European call option: 8.019\")"
   ]
  },
  {
   "cell_type": "markdown",
   "metadata": {
    "id": "8dd99487-8237-4eac-bbf9-cbdcaf06b870",
    "tags": []
   },
   "source": [
    "## 🐍 Sobre Python\n",
    "### Mundo financiero vs IT - Python\n",
    "\n",
    "* Eficiencia: Obtener resultados rápido, ahorrando costos y tiempo!\n",
    "* Productividad: Se puede hacer mucho más con los mismos recursos.\n",
    "* Calidad: Python permite realizar procesos que otras tecnologías no.\n",
    "\n",
    "• Hilpisch, Yves (2015). Derivatives Analytics with Python. Chichester, England:\n",
    "Wiley Finance.  \n",
    "• López de Prado, Marcos (2018). Advances in Financial Machine Learning.\n",
    "Hoboken, NJ: John Wiley & Sons.  \n",
    "• VanderPlas, Jake (2016). Python Data Science Handbook. Sebastopol, CA:\n",
    "O’Reilly.  "
   ]
  }
 ],
 "metadata": {
  "colab": {
   "name": "0.presentacion.ipynb",
   "provenance": []
  },
  "kernelspec": {
   "display_name": "Python 3",
   "language": "python",
   "name": "python3"
  },
  "language_info": {
   "codemirror_mode": {
    "name": "ipython",
    "version": 3
   },
   "file_extension": ".py",
   "mimetype": "text/x-python",
   "name": "python",
   "nbconvert_exporter": "python",
   "pygments_lexer": "ipython3",
   "version": "3.6.1"
  }
 },
 "nbformat": 4,
 "nbformat_minor": 5
}
