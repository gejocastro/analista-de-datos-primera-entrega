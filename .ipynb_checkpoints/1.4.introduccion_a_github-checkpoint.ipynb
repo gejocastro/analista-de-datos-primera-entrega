{
 "cells": [
  {
   "cell_type": "markdown",
   "metadata": {},
   "source": [
    "# **MÓDULO 1 - Github**"
   ]
  },
  {
   "cell_type": "markdown",
   "metadata": {},
   "source": [
    "## [¿Qué es Github?](https://www.youtube.com/watch?v=w3jLJU7DT5E)\n",
    "\n",
    "GitHub es una plataforma web colaborativa que *usa git*. Permite crear repositorios públicos o privados, y ofrece herramientas varias para los equipos.\n",
    "\n",
    "![](graphics/github-map.png)"
   ]
  },
  {
   "cell_type": "markdown",
   "metadata": {},
   "source": [
    "## Exporando un repositorio \n",
    "\n",
    "![](graphics/github-repo.png)"
   ]
  },
  {
   "cell_type": "markdown",
   "metadata": {},
   "source": [
    "### README\n",
    "\n",
    "![](graphics/github-readme.png)\n",
    "\n",
    "*(README.txt o README.md)* Usualmente contiene:\n",
    "- Información general del sistema o proyecto que lo contiene.\n",
    "- Su estado.\n",
    "- Requisitos o requerimientos. \n",
    "- Una guía de instalación y funcionamiento.\n",
    "- Una lista de tecnologías empleadas.\n",
    "- Bugs conocidos y posibles fix.\n",
    "- Sección de preguntas frecuentes.\n",
    "- Información sobre derechos de autor y licencias.\n",
    "\n",
    "[Awesome README](https://github.com/matiassingers/awesome-readme)"
   ]
  },
  {
   "cell_type": "markdown",
   "metadata": {},
   "source": [
    "### Issues\n",
    "\n",
    "En GitHub, un issue es la unidad de trabajo designada para realizar una mejora en un Sistema informático. Un issue puede ser el arreglo de un fallo, una característica pedida, una tarea, una solicitud de Documentación en específico y todo tipo de solicitud al equipo de desarrollo.\n",
    "\n",
    "![](graphics/github-issues.png)\n",
    "\n",
    "![](graphics/github-issues2.png)"
   ]
  },
  {
   "cell_type": "markdown",
   "metadata": {},
   "source": [
    "### Branch\n",
    "\n",
    "Crear una rama en GitHub.\n",
    "\n",
    "En la sección `code` click en el menú desplegable de la rama `main` (a partir de la que se creará la nueva rama). Nombrarla en el espacio disponible para escribir:\n",
    "\n",
    "![](graphics/github-new-branch.png)"
   ]
  },
  {
   "cell_type": "markdown",
   "metadata": {},
   "source": [
    "### Commit\n",
    "\n",
    "Para *commitear* un nuevo archivo, desde la sección `code`, en la branch correspondiente y en el botón (verde) `code` click en `Create new file`:\n",
    "\n",
    "![](graphics/github-new-file.png)\n",
    "\n",
    "Se definen el path y nombre del nuevo archivo así como su contenido en el editor:\n",
    "\n",
    "![](graphics/github-edit-new-file.png)\n",
    "\n",
    "Se crea un commit, su tag y *opcionalmente* una descripción extendida.\n",
    "\n",
    "![](graphics/github-commit.png)"
   ]
  },
  {
   "cell_type": "markdown",
   "metadata": {},
   "source": [
    "### Pull request\n",
    "\n",
    "Un Pull request (PR) es una solicitud para, potencialmente, *mergear* el código de una branch en particular a la principal. Se puede concebir como una petición de contribuir al proyecto. La deben aprobar quienes sean propietarios del proyecto.\n",
    "\n",
    "En la sección `Pull requests` click en el botón (verde) `New pull request`. A la izquierda la branch principal, a la que se desea contribuir, a la derecha la branch que se va a mergear.\n",
    "\n",
    "![](graphics/github-pr.png)\n",
    "\n",
    "![](graphics/github-pr2.png)"
   ]
  },
  {
   "cell_type": "markdown",
   "metadata": {},
   "source": [
    "#### Changes requested\n",
    "\n",
    "Quien/quienes revisen el PR pueden hacer comentarios, editar archivos y *solicitar cambios* antes de mergear, esto se ve reflejado en la tab `Converation`:\n",
    "\n",
    "![](graphics/github-changes-requested.png)\n",
    "\n",
    "En la sección `Pull requests` y tab `Files changed` se pueden agregar cambios a la branch:\n",
    "\n",
    "![](graphics/github-changes.png)"
   ]
  },
  {
   "cell_type": "markdown",
   "metadata": {},
   "source": [
    "#### Merge pull request\n",
    "\n",
    "Una vez que los cambios sean aprobados se habilita el botón de `merge pull request`, lo que va a *mergear* el contenido/los cambios de la branch en cuestión a la branch en la que se realiza el merge:\n",
    "\n",
    "![](graphics/github-approved.png)\n",
    "\n",
    "![](graphics/github-confirm-merge.png)"
   ]
  },
  {
   "cell_type": "markdown",
   "metadata": {},
   "source": [
    "> [Introducción a github interactiva](https://lab.github.com/githubtraining/introduction-to-github)  \n",
    "> [Github learning lab](https://lab.github.com/)  \n",
    "> [github pages](https://pages.github.com/)  "
   ]
  },
  {
   "cell_type": "markdown",
   "metadata": {},
   "source": [
    "Seguir la guía [creating-a-personal-access-token](https://docs.github.com/es/authentication/keeping-your-account-and-data-secure/creating-a-personal-access-token)"
   ]
  }
 ],
 "metadata": {
  "kernelspec": {
   "display_name": "Python 3",
   "language": "python",
   "name": "python3"
  },
  "language_info": {
   "codemirror_mode": {
    "name": "ipython",
    "version": 3
   },
   "file_extension": ".py",
   "mimetype": "text/x-python",
   "name": "python",
   "nbconvert_exporter": "python",
   "pygments_lexer": "ipython3",
   "version": "3.6.1"
  }
 },
 "nbformat": 4,
 "nbformat_minor": 5
}
