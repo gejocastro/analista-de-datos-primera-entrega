{
 "cells": [
  {
   "cell_type": "markdown",
   "metadata": {
    "slideshow": {
     "slide_type": "slide"
    },
    "tags": []
   },
   "source": [
    "# **MÓDULO 1 - INTRODUCCIÓN Y PRE REQUISITOS**\n",
    "## ✅ Temario\n",
    "\n",
    "* Línea de comandos (*terminal*, *consola*)\n",
    "* IDEs\n",
    "    * Pycharm\n",
    "    * VSCode\n",
    "* Herramientas de este curso\n",
    "    * Python\n",
    "    * Mini-conda\n",
    "    * Jupyter Notebook/Lab"
   ]
  },
  {
   "cell_type": "markdown",
   "metadata": {
    "slideshow": {
     "slide_type": "subslide"
    },
    "tags": []
   },
   "source": [
    "# **MÓDULO 1 - INTRODUCCIÓN Y PRE REQUISITOS**\n",
    "## 💻 Línea de comandos (terminal, consola)\n",
    "\n",
    "¡Vas a escribir tu primera línea de código en pocos minutos! :)\n",
    "\n",
    "### ¿Qué es la línea de comandos?\n",
    "\n",
    "La línea de comandos es una aplicación basada en texto para ver, manejar y manipular archivos e ingresar instrucciones en general. Similar a Windows Explorer o Finder en Mac, pero *sin la interfaz gráfica*. Otros nombres para la línea de comandos son: *cmd, CLI, prompt -símbolo de sistema-, console -consola- o terminal.*"
   ]
  },
  {
   "cell_type": "markdown",
   "metadata": {
    "slideshow": {
     "slide_type": "subslide"
    },
    "tags": []
   },
   "source": [
    "# **MÓDULO 1 - INTRODUCCIÓN Y PRE REQUISITOS**\n",
    "## 💻 Línea de comandos (terminal, consola)\n",
    "\n",
    "\n",
    "* GNU/Linux 😎\n",
    "    * `Ctrl+Alt+T` \n",
    "* Mac\n",
    "    * `Menú -> Terminal` \n",
    "\n",
    "* Windows 🔥   \n",
    "![](https://tutorial.djangogirls.org/es/python_installation/images/windows-plus-r.png)\n",
    "\n",
    "## Prompt\n",
    "* GNU/Linux - Mac 😎\n",
    "    * `$` \n",
    "\n",
    "* Windows 🔥   \n",
    "    * `>` \n"
   ]
  },
  {
   "cell_type": "markdown",
   "metadata": {
    "slideshow": {
     "slide_type": "subslide"
    },
    "tags": []
   },
   "source": [
    "# **MÓDULO 1 - INTRODUCCIÓN Y PRE REQUISITOS**\n",
    "## 💻 Línea de comandos (terminal, consola)\n",
    "\n",
    "### 👯 ¡Mis primeros comando!\n",
    "\n",
    "``` shell\n",
    "$ whoami\n",
    "$ pwd\n",
    "$ cd Escritorio/Desktop\n",
    "$ pwd\n",
    "``` "
   ]
  },
  {
   "cell_type": "markdown",
   "metadata": {
    "slideshow": {
     "slide_type": "subslide"
    },
    "tags": []
   },
   "source": [
    "# **MÓDULO 1 - INTRODUCCIÓN Y PRE REQUISITOS**\n",
    "## 💻 Línea de comandos (terminal, consola)\n",
    "\n",
    "### Comandos útiles\n",
    "\n",
    "*Comando GNU/Linux-Mac / Windows*\n",
    "\n",
    "| Comando (Windows) | Comando (Mac OS / Linux) | Descripción | Ejemplo |\n",
    "|---|---|---|---|\n",
    "| exit | exit | Cierra la ventana | exit |\n",
    "| cd | cd | Cambia el directorio | cd test |\n",
    "| cd | pwd | Mostrar el directorio actual | cd (Windows) o pwd (Mac OS / Linux) |\n",
    "| dir | ls | Lista directorios/archivos | dir |\n",
    "| copy | cp | Copia de archivos | copy c:\\test\\test.txt c:\\windows\\test.txt |\n",
    "| move | mv | Mueve archivos | move c:\\test\\test.txt c:\\windows\\test.txt |\n",
    "| mkdir | mkdir | Crea un nuevo directorio | mkdir testdirectory |\n",
    "| rmdir (o del) | rm | Eliminar un archivo | del c:\\test\\test.txt |\n",
    "| rmdir /S | rm -r | Eliminar un Directorio | rm -r testdirectory |\n",
    "| [CMD] /? | man [CMD] | Obtener ayuda para un comando | cd /? (Windows) o man cd (Mac OS / Linux) |\n",
    "| cls | clear | Limpia la consola dejando el prompt en la primera línea | cls |"
   ]
  },
  {
   "cell_type": "markdown",
   "metadata": {
    "slideshow": {
     "slide_type": "slide"
    },
    "tags": []
   },
   "source": [
    "# **MÓDULO 1 - INTRODUCCIÓN Y PRE REQUISITOS**\n",
    "## 🤓 Instalar las herramientas necesarias\n",
    "### Python\n",
    "\n",
    "[![](https://img.shields.io/badge/Python-3776AB?style=for-the-badge&logo=python&logoColor=white)](https://www.python.org/downloads/) [python.org/downloads/](https://www.python.org/downloads)\n",
    "\n",
    "* GNU/Linux 😎\n",
    "\n",
    "* Windows/MacOS 🔥 \n",
    "\n",
    "![](https://docs.python.org/es/dev/_images/win_installer.png)"
   ]
  },
  {
   "cell_type": "markdown",
   "metadata": {
    "slideshow": {
     "slide_type": "subslide"
    },
    "tags": []
   },
   "source": [
    "# **MÓDULO 1 - INTRODUCCIÓN Y PRE REQUISITOS**\n",
    "## 🤓 Instalar las herramientas necesarias\n",
    "### Conda/Miniconda\n",
    "\n",
    "[![](https://anaconda.org/anaconda/anaconda/badges/installer/conda.svg)](https://docs.conda.io/en/latest/miniconda.html) [docs.conda.io/en/latest/miniconda](https://docs.conda.io/en/latest/miniconda.html)\n",
    "\n",
    "Con `conda` se gestionan paquetes y entornos virtuales:\n",
    "\n",
    "![](https://i.imgur.com/BfR8D9j.png)"
   ]
  },
  {
   "cell_type": "markdown",
   "metadata": {
    "slideshow": {
     "slide_type": "subslide"
    },
    "tags": []
   },
   "source": [
    "# **MÓDULO 1 - INTRODUCCIÓN Y PRE REQUISITOS**\n",
    "## 🤓 Instalar las herramientas necesarias\n",
    "### Conda/Miniconda\n",
    "\n",
    "[![](https://anaconda.org/anaconda/anaconda/badges/installer/conda.svg)](https://docs.conda.io/en/latest/miniconda.html) [docs.conda.io/en/latest/miniconda](https://docs.conda.io/en/latest/miniconda.html)\n",
    "\n",
    "### ¿Por qué un entorno virtual?\n",
    "\n",
    "![](https://i.imgur.com/g7bMGIK.png)"
   ]
  },
  {
   "cell_type": "markdown",
   "metadata": {
    "slideshow": {
     "slide_type": "subslide"
    },
    "tags": []
   },
   "source": [
    "# **MÓDULO 1 - INTRODUCCIÓN Y PRE REQUISITOS**\n",
    "## 🤓 Instalar las herramientas necesarias\n",
    "### Conda/Miniconda\n",
    "\n",
    "[![](https://anaconda.org/anaconda/anaconda/badges/installer/conda.svg)](https://docs.conda.io/en/latest/miniconda.html) [docs.conda.io/en/latest/miniconda](https://docs.conda.io/en/latest/miniconda.html)\n",
    "\n",
    "* GNU/Linux 😎\n",
    "\n",
    "```bash\n",
    "~$ cd Downloads\n",
    "~$ sudo chmod +x Miniconda3-latest-Linux-x86_64.sh\n",
    "~$ ./Miniconda3-latest-Linux-x86_64.sh\n",
    "```\n",
    "\n",
    "* Windows/MacOS 🔥 \n",
    "\n",
    "![](https://katiekodes.com/images/screenshot-miniconda-05-pathanddefault.png)"
   ]
  },
  {
   "cell_type": "markdown",
   "metadata": {
    "slideshow": {
     "slide_type": "subslide"
    },
    "tags": []
   },
   "source": [
    "# **MÓDULO 1 - INTRODUCCIÓN Y PRE REQUISITOS**\n",
    "## 🤓 Instalar las herramientas necesarias\n",
    "### Jupyter\n",
    "\n",
    "[![](https://img.shields.io/badge/Jupyter-F37626.svg?&style=for-the-badge&logo=Jupyter&logoColor=white)](https://jupyter.org/) [jupyter.org](https://jupyter.org/)\n",
    "\n",
    "### ¿Por qué Jupyter(lab)?\n",
    "\n",
    "Jupyter es amigable, eficiente, está hecho para desarrolladores Python, desarrollar en `ipynb` es un estándar en el mundo de Python.\n",
    "\n",
    "* **¿Se puede programar en Python sin todas estas herramientas?**\n",
    "\n",
    "SÍ, basta con instalar el intérprete de Python.\n",
    "\n",
    "* **¿Se puede programar sin un IDE?**\n",
    "\n",
    "Sí, basta con instalar el intérprete de Python y la consola, pero existen editores o IDEs para trabajar en Python de manera eficiente y amigable, como [pyachrm](https://www.jetbrains.com/es-es/pycharm/), [VSCode](https://code.visualstudio.com/) [atom](https://atom.io/), [sublime](https://www.sublimetext.com), [spyder](https://docs.spyder-ide.org/)."
   ]
  },
  {
   "cell_type": "markdown",
   "metadata": {
    "slideshow": {
     "slide_type": "subslide"
    },
    "tags": []
   },
   "source": [
    "# **MÓDULO 1 - INTRODUCCIÓN Y PRE REQUISITOS**\n",
    "## 🤓 Instalar las herramientas necesarias\n",
    "### Jupyter\n",
    "\n",
    "[![](https://img.shields.io/badge/Jupyter-F37626.svg?&style=for-the-badge&logo=Jupyter&logoColor=white)](https://jupyter.org/) [jupyter.org](https://jupyter.org/)\n",
    "\n",
    "* GNU/Linux 😎\n",
    "\n",
    "```bash\n",
    "(webapp)~$ conda install jupyterlab\n",
    "```\n",
    "\n",
    "* Windows 🔥 \n",
    "\n",
    "![](https://media.geeksforgeeks.org/wp-content/uploads/20200120170814/Jupyter-Installation-01.jpg)\n",
    "\n",
    "Las celdas pueden ser Markdown o código.\n",
    " \n",
    "Apretar `shift + enter` ejecutar la celda. También puede ser `ctrl + enter`"
   ]
  },
  {
   "cell_type": "markdown",
   "metadata": {
    "slideshow": {
     "slide_type": "subslide"
    },
    "tags": []
   },
   "source": [
    "# **MÓDULO 1 - INTRODUCCIÓN Y PRE REQUISITOS**\n",
    "## 🤓 Instalar las herramientas necesarias\n",
    "### Jupyter\n",
    "\n",
    "### Atajo desesperado\n",
    "\n",
    "[![](https://img.shields.io/badge/Jupyter-F37626.svg?&style=for-the-badge&logo=Jupyter&logoColor=white)](https://mybinder.org/v2/gh/jupyterlab/jupyterlab-demo/master?urlpath=lab/tree/demo)https://jupyter.orghttps://mybinder.org/v2/gh/jupyterlab/jupyterlab-demo/master?urlpath=lab/tree/demo/\n",
    "\n",
    "[Try Jupyterlab](https://mybinder.org/v2/gh/jupyterlab/jupyterlab-demo/master?urlpath=lab/tree/demo)\n",
    "\n",
    "![](https://imgur.com/8rbJwzF.png)"
   ]
  },
  {
   "cell_type": "markdown",
   "metadata": {
    "slideshow": {
     "slide_type": "slide"
    },
    "tags": []
   },
   "source": [
    "# **MÓDULO 1 - INTRODUCCIÓN Y PRE REQUISITOS**\n",
    "## 👩‍💻Introducción a la programación \n",
    "\n",
    "Un __Hola Mundo__ o __Hello World__, es un sencillo programa que simplemente imprime la frase que le da nombre, y que suele usarse en la bibliografía y cursos de programación como primer ejercicio introductorio.\n",
    "No hay una versión única y clara del origen del __Hola Mundo__. La más confiable cuenta  que __Brian Kernighan__ (destacado desarrollador de software y autor), habría introducido este famoso ejemplo en 1973 un su libro, ___A Tutorial Introduction to the Programming Language B___:\n",
    "\n",
    "\n",
    "```C\n",
    "main( ) {  \n",
    "extrn a, b, c;  \n",
    "putchar(a); putchar(b); putchar(c); putchar(’!*n’);  \n",
    "} 1 ’hell’;  \n",
    "b ’o, w’;  \n",
    "c ’orld’;  \n",
    "```\n",
    "\n",
    "![](https://upload.wikimedia.org/wikipedia/commons/thumb/a/ae/Brian_Kernighan_in_2012_at_Bell_Labs_1.jpg/800px-Brian_Kernighan_in_2012_at_Bell_Labs_1.jpg)"
   ]
  },
  {
   "cell_type": "markdown",
   "metadata": {
    "slideshow": {
     "slide_type": "subslide"
    },
    "tags": []
   },
   "source": [
    "# **MÓDULO 1 - INTRODUCCIÓN Y PRE REQUISITOS**\n",
    "## 👩‍💻Introducción a la programación \n",
    "\n",
    "Aparentemente la frase provino de un programa de dibujos animados.\n",
    "Otra versión más pintoresca, pero menos creíble, ubica al primer _hello world_ en la Francia de 1801, donde Joseph Marie Jacquard, comerciante y tejedor, utilizó tarjetas perforadas para instruir a un telar y tejer “Hello World” en un tapiz.\n",
    "\n",
    "![](https://upload.wikimedia.org/wikipedia/commons/0/09/Jacquard.loom.cards.jpg)"
   ]
  },
  {
   "cell_type": "markdown",
   "metadata": {
    "slideshow": {
     "slide_type": "subslide"
    },
    "tags": []
   },
   "source": [
    "# **MÓDULO 1 - INTRODUCCIÓN Y PRE REQUISITOS**\n",
    "## 👩‍💻Introducción a la programación \n",
    "### Hola mundo en Python\n",
    "\n",
    "__Ejercicio 1__: Determinar cual de los siguientes maneras de ejecutar un _Hola Mundo_ es la correcta, e implementarla."
   ]
  },
  {
   "cell_type": "code",
   "execution_count": null,
   "metadata": {
    "collapsed": true,
    "slideshow": {
     "slide_type": "fragment"
    },
    "tags": []
   },
   "outputs": [],
   "source": [
    "print(HolaMundo)"
   ]
  },
  {
   "cell_type": "code",
   "execution_count": null,
   "metadata": {
    "collapsed": true,
    "slideshow": {
     "slide_type": "fragment"
    },
    "tags": []
   },
   "outputs": [],
   "source": [
    "print('¡Hola mundo!')"
   ]
  },
  {
   "cell_type": "markdown",
   "metadata": {
    "slideshow": {
     "slide_type": "subslide"
    },
    "tags": []
   },
   "source": [
    "# **MÓDULO 1 - INTRODUCCIÓN Y PRE REQUISITOS**\n",
    "## 👩‍💻Introducción a la programación \n",
    "### Hola mundo en otros lenguajes\n",
    "\n",
    "__Ada__  \n",
    "\n",
    "```ada\n",
    "with Ada.Text_IO;  \n",
    "\n",
    "procedure Hola_Mundo is begin  \n",
    "Ada.Text_IO.Put_Line(\"¡Hola, mundo!\");  \n",
    "end Hola_Mundo;  \n",
    "```\n",
    "\n",
    "__C__  \n",
    "\n",
    "```c\n",
    "#include <stdio.h>  \n",
    "  \n",
    "int main(void)  \n",
    "{  \n",
    "    printf(\"¡Hola, mundo!\\n\");  \n",
    "    return 0;  \n",
    "}  \n",
    "```\n",
    "\n",
    "__Java__\n",
    "\n",
    "```java\n",
    "class HolaMundo\n",
    "{\n",
    "    public static void main(String[] args)\n",
    "    {\n",
    "        System.out.println(\"Hola Mundo\");//Opcion 1\n",
    "\n",
    "        JOptionPane.showMessageDialog(null,\"Hola Mundo\");//Opcion 2\n",
    "    }\n",
    "}\n",
    "```"
   ]
  },
  {
   "cell_type": "markdown",
   "metadata": {
    "colab_type": "text",
    "id": "GvYOL1wa_ODP"
   },
   "source": [
    "# **MÓDULO 1 - INTRODUCCIÓN Y PRE REQUISITOS**\n",
    "## 👩‍💻Introducción a la programación \n",
    "### El zen de python"
   ]
  },
  {
   "cell_type": "code",
   "execution_count": 5,
   "metadata": {
    "colab_type": "text",
    "id": "GvYOL1wa_ODP",
    "slideshow": {
     "slide_type": "fragment"
    },
    "tags": []
   },
   "outputs": [
    {
     "name": "stdout",
     "output_type": "stream",
     "text": [
      "The Zen of Python, by Tim Peters\n",
      "\n",
      "Beautiful is better than ugly.\n",
      "Explicit is better than implicit.\n",
      "Simple is better than complex.\n",
      "Complex is better than complicated.\n",
      "Flat is better than nested.\n",
      "Sparse is better than dense.\n",
      "Readability counts.\n",
      "Special cases aren't special enough to break the rules.\n",
      "Although practicality beats purity.\n",
      "Errors should never pass silently.\n",
      "Unless explicitly silenced.\n",
      "In the face of ambiguity, refuse the temptation to guess.\n",
      "There should be one-- and preferably only one --obvious way to do it.\n",
      "Although that way may not be obvious at first unless you're Dutch.\n",
      "Now is better than never.\n",
      "Although never is often better than *right* now.\n",
      "If the implementation is hard to explain, it's a bad idea.\n",
      "If the implementation is easy to explain, it may be a good idea.\n",
      "Namespaces are one honking great idea -- let's do more of those!\n"
     ]
    }
   ],
   "source": [
    "import this"
   ]
  }
 ],
 "metadata": {
  "kernelspec": {
   "display_name": "Python 3",
   "language": "python",
   "name": "python3"
  },
  "language_info": {
   "codemirror_mode": {
    "name": "ipython",
    "version": 3
   },
   "file_extension": ".py",
   "mimetype": "text/x-python",
   "name": "python",
   "nbconvert_exporter": "python",
   "pygments_lexer": "ipython3",
   "version": "3.6.1"
  }
 },
 "nbformat": 4,
 "nbformat_minor": 5
}
