{
 "cells": [
  {
   "cell_type": "markdown",
   "metadata": {},
   "source": [
    "# **MÓDULO 1 - Git**\n",
    "**Una breve introducción a git.**\n",
    "\n",
    "![](https://git-scm.com/images/logos/2color-lightbg@2x.png)"
   ]
  },
  {
   "cell_type": "markdown",
   "metadata": {},
   "source": [
    "## ¿Qué es git?\n",
    "\n",
    "Git es un software de control de versiones, monitorea los cambios o historial en un directorio (*repositorio*), permite crear puntos de control o hitos en un proyecto a los cuáles volver, facilita el trabajo en equipo en un proyecto de desarrollo."
   ]
  },
  {
   "cell_type": "markdown",
   "metadata": {},
   "source": [
    "## ¿Qué es github?\n",
    "\n",
    "![](https://encrypted-tbn0.gstatic.com/images?q=tbn:ANd9GcQKyRigwt3WjFl8mfZpqt7PFnnTbxZXCvVS8sYfNdy_SdEOQUbzJB5dWxzElMoCCU3G4mM&usqp=CAU)\n",
    "\n",
    "[Github](https://github.com/) es un servicio web que aloja código y trabaja con git."
   ]
  },
  {
   "cell_type": "markdown",
   "metadata": {},
   "source": [
    "## git init\n",
    "\n",
    "Este comando permite iniciar el seguimiento de git en un repositorio determinado\n",
    "\n",
    "```sh\n",
    "$ git init  \n",
    "Initialized empty Git repository in <path>/.git/\n",
    "```"
   ]
  },
  {
   "cell_type": "markdown",
   "metadata": {},
   "source": [
    "## git clone\n",
    "\n",
    "Clona un repositorio remoto (que vive por ejemplo github) de manera local\n",
    "\n",
    "```sh\n",
    "$ git clone <repository-URL>\n",
    "Cloning into 'path'...\n",
    "remote: Enumerating objects: n, done.\n",
    "remote: Total n (delta 0), reused 0 (delta 0), pack-reused n\n",
    "Receiving objects: 100% (n/n), t KiB | t2 KiB/s, done.\n",
    "Resolving deltas: 100% (m/m), done.\n",
    "$ ls\n",
    "```"
   ]
  },
  {
   "cell_type": "markdown",
   "metadata": {},
   "source": [
    "## git status\n",
    "\n",
    "Describe el estado del repositorio actual, cambios a agregar, cambios agregados a commitear y commits a pushear si los hubiere. Además especifica información como la branch actual.\n",
    "\n",
    "```sh\n",
    "$ git status\n",
    "On branch main\n",
    "Your branch is up to date with 'origin/main'.\n",
    "\n",
    "Changes to be committed:\n",
    "  (use \"git restore --staged <file>...\" to unstage)\n",
    "\tnew file:   new_file\n",
    "\n",
    "Untracked files:\n",
    "  (use \"git add <file>...\" to include in what will be committed)\n",
    "\tuntracked_file\n",
    "\n",
    "```"
   ]
  },
  {
   "cell_type": "code",
   "execution_count": 1,
   "metadata": {},
   "outputs": [
    {
     "ename": "SyntaxError",
     "evalue": "invalid syntax (<ipython-input-1-2a402a90b83b>, line 1)",
     "output_type": "error",
     "traceback": [
      "\u001b[1;36m  File \u001b[1;32m\"<ipython-input-1-2a402a90b83b>\"\u001b[1;36m, line \u001b[1;32m1\u001b[0m\n\u001b[1;33m    git init\u001b[0m\n\u001b[1;37m           ^\u001b[0m\n\u001b[1;31mSyntaxError\u001b[0m\u001b[1;31m:\u001b[0m invalid syntax\n"
     ]
    }
   ],
   "source": [
    "\n"
   ]
  },
  {
   "cell_type": "markdown",
   "metadata": {},
   "source": [
    "## git add\n",
    "\n",
    "Agrega los cambios realizados en archivos/directorios del proyecto para formar parte del potencial próximo commit. Este cambio se puede ver/veruficar con `git status` luego de un `git add`.\n",
    "\n",
    "```sh\n",
    "$ git add <file-to-add> <another-file-to-add>\n",
    "```"
   ]
  },
  {
   "cell_type": "markdown",
   "metadata": {},
   "source": [
    "## git commit\n",
    "\n",
    "Un commit en un repositorio git registra un snapshot de todos los archivos en tu directorio. Es como un gran copy&paste, ¡pero incluso mejor!\n",
    "\n",
    "Git pretende mantener los commits tan livianos como sea posible, por lo que no copia ciegamente el directorio completo cada vez que haces un commit. Puede (cuando es posible) comprimir un commit como un conjunto de cambios (o un \"delta\") entre una versión de tu repositorio y la siguiente.\n",
    "\n",
    "Git mantiene, también, un historial de qué commits se hicieron y cuándo.\n",
    "\n",
    "![](graphics/git-commit.png)  \n",
    "*Commits C0 y C1*"
   ]
  },
  {
   "cell_type": "markdown",
   "metadata": {},
   "source": [
    "### good commits messages\n",
    "\n",
    "* Captitalizados\n",
    "* En inglés\n",
    "* En infinitivo\n",
    "* En presente simple\n",
    "\n",
    "ej: \"Add good commits messages tips\""
   ]
  },
  {
   "cell_type": "markdown",
   "metadata": {},
   "source": [
    "## git log\n",
    "\n",
    "Muestra el historial de commits del repositorio y branch actuales, el hash de cada uno, así como fecha y hora, autor y mensaje.\n",
    "\n",
    "```sh\n",
    "$ git log\n",
    "commit 17b59978f330334af78bea678265b64066d58d77 (HEAD -> main, origin/main, origin/HEAD)\n",
    "Author: author-name <author-name@domain.com>\n",
    "Date:   Mon Dec 13 20:51:06 2021 -0300\n",
    "\n",
    "    <commit message>\n",
    "\n",
    "commit d703fb311740df76db97dbb6c1f6da3e86f81145\n",
    "Author: author-name <author-name@domain.com>\n",
    "Date:   Mon Dec 13 20:47:10 2021 -0300\n",
    "\n",
    "    <commit message>\n",
    "\n",
    "commit a8d5b5a290fa24f1675bf2053505ffb3a79df83a\n",
    "Author: author-name <author-name@domain.com>\n",
    "Date:   Mon Dec 13 20:42:32 2021 -0300\n",
    "\n",
    "    <commit message>\n",
    "``` "
   ]
  },
  {
   "cell_type": "markdown",
   "metadata": {},
   "source": [
    "## git checkout\n",
    "\n",
    "Permite desplazarse entre ramas git checkout nombre-de-la-rama así como crear nuevas ramas git checkout -b \"nombre-de-la-rama\"\n",
    "\n",
    "## git push\n",
    "\n",
    "Publica los commits locales en un repositorio remoto (ej github)\n",
    "\n",
    "## git pull\n",
    "\n",
    "Actualiza el repositorio local con los commits publicados en el repositorio remoto y que sean faltantes.\n",
    "\n",
    "## git merge\n",
    "\n",
    "Permite mezclar o unir la rama de trabajo actual con una especificada.\n",
    "\n",
    "## .gitignore\n",
    "\n",
    "Es un archivo que permite especificar todos aquellos archivos y directorios que no son necesarios seguir, agregar, commitear ni pushear.\n",
    "\n",
    "Ej: \n",
    "*.pyc\n",
    "tmp\n",
    "\n",
    "## Tutorial interactivo\n",
    "\n",
    "[learngitbranching](https://learngitbranching.js.org/)\n"
   ]
  }
 ],
 "metadata": {
  "kernelspec": {
   "display_name": "Python 3",
   "language": "python",
   "name": "python3"
  },
  "language_info": {
   "codemirror_mode": {
    "name": "ipython",
    "version": 3
   },
   "file_extension": ".py",
   "mimetype": "text/x-python",
   "name": "python",
   "nbconvert_exporter": "python",
   "pygments_lexer": "ipython3",
   "version": "3.6.1"
  }
 },
 "nbformat": 4,
 "nbformat_minor": 5
}
